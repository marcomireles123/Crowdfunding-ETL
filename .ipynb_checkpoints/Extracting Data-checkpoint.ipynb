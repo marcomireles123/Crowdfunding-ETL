{
 "cells": [
  {
   "cell_type": "code",
   "execution_count": 1,
   "id": "7bcb146a",
   "metadata": {},
   "outputs": [],
   "source": [
    "import pandas as pd"
   ]
  },
  {
   "cell_type": "code",
   "execution_count": 2,
   "id": "155ca7ee",
   "metadata": {},
   "outputs": [
    {
     "data": {
      "text/plain": [
       "['crowdfunding_info', 'contact_info']"
      ]
     },
     "execution_count": 2,
     "metadata": {},
     "output_type": "execute_result"
    }
   ],
   "source": [
    "# Read the data into a Pandas DataFrame\n",
    "crowdfunding_data = pd.ExcelFile(\"crowdfunding.xlsx\")\n",
    "# Get the sheet names.\n",
    "crowdfunding_data.sheet_names"
   ]
  },
  {
   "cell_type": "code",
   "execution_count": null,
   "id": "e110ac37",
   "metadata": {},
   "outputs": [],
   "source": []
  }
 ],
 "metadata": {
  "kernelspec": {
   "display_name": "Python 3 (ipykernel)",
   "language": "python",
   "name": "python3"
  },
  "language_info": {
   "codemirror_mode": {
    "name": "ipython",
    "version": 3
   },
   "file_extension": ".py",
   "mimetype": "text/x-python",
   "name": "python",
   "nbconvert_exporter": "python",
   "pygments_lexer": "ipython3",
   "version": "3.9.12"
  }
 },
 "nbformat": 4,
 "nbformat_minor": 5
}
