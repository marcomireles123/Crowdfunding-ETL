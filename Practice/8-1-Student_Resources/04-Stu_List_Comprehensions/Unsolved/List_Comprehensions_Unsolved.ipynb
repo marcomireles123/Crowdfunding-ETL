{
 "cells": [
  {
   "cell_type": "markdown",
   "metadata": {},
   "source": [
    "### Remember the modulo operator (%) !\n",
    "`x % y` gives the remainder if `x` is divided by `y`. So, for instance `x % 2` will be `0` when x is even, and `1` when x is odd"
   ]
  },
  {
   "cell_type": "code",
   "execution_count": 1,
   "metadata": {},
   "outputs": [],
   "source": [
    "# Make a list of numbers up to 100 that are divisible by three.\n",
    "\n"
   ]
  },
  {
   "cell_type": "code",
   "execution_count": 2,
   "metadata": {},
   "outputs": [],
   "source": [
    "# Make a list of numbers up to 100 that are divisible by three OR divisible by five"
   ]
  },
  {
   "cell_type": "code",
   "execution_count": 3,
   "metadata": {},
   "outputs": [],
   "source": [
    "# Use conditional list comprehensions to create a list of all the pet dog names.\n",
    "pets = [{\n",
    "    'name': 'Fido',\n",
    "    'age': 4,\n",
    "    'type': 'dog'\n",
    "}, {\n",
    "    'name': 'Rex',\n",
    "    'age': 2,\n",
    "    'type': 'dog'\n",
    "}, {\n",
    "    'name': 'Puddles',\n",
    "    'age': 7,\n",
    "    'type': 'wombat'\n",
    "}, {\n",
    "    'name': 'Tuna',\n",
    "    'age': 6,\n",
    "    'type': 'cat'\n",
    "}, {\n",
    "    'name': 'Springer',\n",
    "    'age': 5,\n",
    "    'type': 'dog'\n",
    "}]\n",
    "\n"
   ]
  },
  {
   "cell_type": "code",
   "execution_count": 4,
   "metadata": {},
   "outputs": [],
   "source": [
    "# Use a list comprehension to create a list containing three items; a \"customer_id\", \n",
    "# \"name\", and \"email\" for each customer in the customers list.  \n",
    "customers = [\"400021,Adrianna Raysor,adrianna.raysor@360.cn\",\n",
    "\"400064,Amberly Kerfie,a.kerfie@instagram.com\",\n",
    "\"400042,Angelique Kleiner,a.klein@google.com\",\n",
    "\"400059,Arleen Bergman,arleen.bergman@friendfeed.com\",\n",
    "\"400006,Arlinda McBrayer,amcbrayer@scribd.com\",\n",
    "\"400014,Astrid Brewster,a.brewster@homestead.com\",\n",
    "\"400027,Ayanna Filippelli,ayanna@reddit.com\"]\n",
    "\n"
   ]
  },
  {
   "cell_type": "code",
   "execution_count": 5,
   "metadata": {},
   "outputs": [],
   "source": [
    "# Use a list comprehension to extract the \"customer_id\" from each customer in the customers list \n",
    "# and then convert the \"customer_id\" to an integer.\n"
   ]
  },
  {
   "cell_type": "code",
   "execution_count": 6,
   "metadata": {},
   "outputs": [],
   "source": [
    "# Use a list comprehension to split each customer \"name\" into a first and last name. \n"
   ]
  },
  {
   "cell_type": "code",
   "execution_count": null,
   "metadata": {},
   "outputs": [],
   "source": []
  }
 ],
 "metadata": {
  "kernelspec": {
   "display_name": "Python 3",
   "language": "python",
   "name": "python3"
  },
  "language_info": {
   "codemirror_mode": {
    "name": "ipython",
    "version": 3
   },
   "file_extension": ".py",
   "mimetype": "text/x-python",
   "name": "python",
   "nbconvert_exporter": "python",
   "pygments_lexer": "ipython3",
   "version": "3.7.7"
  }
 },
 "nbformat": 4,
 "nbformat_minor": 2
}
