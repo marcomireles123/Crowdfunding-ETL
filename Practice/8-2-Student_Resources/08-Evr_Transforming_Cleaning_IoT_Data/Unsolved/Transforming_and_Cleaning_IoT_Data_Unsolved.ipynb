{
 "cells": [
  {
   "cell_type": "code",
   "execution_count": null,
   "metadata": {},
   "outputs": [],
   "source": [
    "import pandas as pd\n",
    "pd.options.display.max_colwidth = 200"
   ]
  },
  {
   "cell_type": "code",
   "execution_count": null,
   "metadata": {},
   "outputs": [],
   "source": [
    "# Load the data into a DataFrame, use the sep=\",\" as the delimiter and no header.\n"
   ]
  },
  {
   "cell_type": "code",
   "execution_count": null,
   "metadata": {},
   "outputs": [],
   "source": [
    "# Take a look at the data. \n",
    "df[0]"
   ]
  },
  {
   "cell_type": "code",
   "execution_count": null,
   "metadata": {},
   "outputs": [],
   "source": [
    "# df.info()"
   ]
  },
  {
   "cell_type": "code",
   "execution_count": null,
   "metadata": {},
   "outputs": [],
   "source": [
    "# Test extracting the key and values from the first using json.loads().\n",
    "# import json\n",
    "# first_row = df.iloc[0][0]\n",
    "# # Convert the data to a Python dictionary. \n",
    "# converted_data = json.loads(first_row)\n",
    "# for k, v in converted_data.items():\n",
    "#     print(k)\n",
    "#     print(v)"
   ]
  },
  {
   "cell_type": "code",
   "execution_count": null,
   "metadata": {
    "scrolled": true
   },
   "outputs": [],
   "source": [
    "# 1. Create two list one for the keys and one for the values.\n",
    "values = []\n",
    "column_names = []\n",
    "#  2. Iterate through the DataFrame he row data.\n",
    "for i, row in df.iterrows():\n",
    "    data = row[0]\n",
    "    # Convert each row to a Python dictionary. \n",
    "    \n",
    "    # Use a list comprehension to get the keys from the converted data.\n",
    "    \n",
    "    # Use a list comprehension to get the values for each row using list comprehension.\n",
    "    \n",
    "    # Append the keys and list values to the lists created in step 1.  \n",
    "    \n",
    "\n",
    "# Print out the keys and list of values for each row.\n",
    "print(column_names[0])\n",
    "print()\n",
    "print(values)"
   ]
  },
  {
   "cell_type": "code",
   "execution_count": null,
   "metadata": {},
   "outputs": [],
   "source": [
    "# Create a DataFrame with the keys and the columns and the nested list of row values as the data. \n"
   ]
  },
  {
   "cell_type": "code",
   "execution_count": null,
   "metadata": {},
   "outputs": [],
   "source": [
    "# Use Pandas regex \"extract()\" function to extract the day of the week from the timestamp  and add it to a new column.\n",
    "# df['new_column'] = df['timestamp'].str.extract(r'()') # Add your capture group. \n"
   ]
  },
  {
   "cell_type": "code",
   "execution_count": null,
   "metadata": {},
   "outputs": [],
   "source": [
    "# Use Pandas regex \"extract()\" function to extract the date from the timestamp column and add it a new column.  \n"
   ]
  },
  {
   "cell_type": "code",
   "execution_count": null,
   "metadata": {},
   "outputs": [],
   "source": [
    "# Use Pandas regex \"extract()\" function to extract the time of day from the timestamp column and add it to a new column.\n"
   ]
  },
  {
   "cell_type": "code",
   "execution_count": null,
   "metadata": {},
   "outputs": [],
   "source": [
    "# Convert the date to a datetime format. \n",
    "from datetime import datetime as dt\n",
    "# 1. Convert the date to %Y-%m-%d.\n",
    "df[\"date\"] = pd.to_datetime(df[\"date\"]).dt.strftime('%Y-%m-%d') \n",
    "# 2. Convert the date to datetime. \n"
   ]
  },
  {
   "cell_type": "code",
   "execution_count": null,
   "metadata": {},
   "outputs": [],
   "source": [
    "# Check the data types."
   ]
  },
  {
   "cell_type": "code",
   "execution_count": null,
   "metadata": {},
   "outputs": [],
   "source": [
    "# Drop the timestamp column.\n",
    "\n",
    "# Reorder the columns.\n"
   ]
  },
  {
   "cell_type": "code",
   "execution_count": null,
   "metadata": {},
   "outputs": [],
   "source": []
  }
 ],
 "metadata": {
  "kernelspec": {
   "display_name": "PythonData",
   "language": "python",
   "name": "pythondata"
  },
  "language_info": {
   "codemirror_mode": {
    "name": "ipython",
    "version": 3
   },
   "file_extension": ".py",
   "mimetype": "text/x-python",
   "name": "python",
   "nbconvert_exporter": "python",
   "pygments_lexer": "ipython3",
   "version": "3.7.7"
  }
 },
 "nbformat": 4,
 "nbformat_minor": 4
}
